{
 "cells": [
  {
   "cell_type": "code",
   "execution_count": 1,
   "metadata": {
    "_cell_guid": "b1076dfc-b9ad-4769-8c92-a6c4dae69d19",
    "_uuid": "8f2839f25d086af736a60e9eeb907d3b93b6e0e5"
   },
   "outputs": [
    {
     "name": "stderr",
     "output_type": "stream",
     "text": [
      "Using TensorFlow backend.\n"
     ]
    }
   ],
   "source": [
    "import numpy as np\n",
    "import pandas as pd\n",
    "from keras.layers import (Input, Embedding, Conv1D, Activation, GlobalMaxPool1D, BatchNormalization,\n",
    "                          Concatenate, CuDNNLSTM, Flatten, Dropout, Dense)\n",
    "from sklearn.model_selection import train_test_split\n",
    "from sklearn.utils import shuffle\n",
    "from keras.models import Model, Sequential\n",
    "from keras.preprocessing.text import Tokenizer\n",
    "from keras.preprocessing.sequence import pad_sequences\n",
    "from keras.initializers import Constant\n",
    "from keras.metrics import top_k_categorical_accuracy\n",
    "from keras.utils import to_categorical, Sequence, plot_model\n",
    "import matplotlib.pyplot as plt"
   ]
  },
  {
   "cell_type": "code",
   "execution_count": 2,
   "metadata": {
    "_cell_guid": "79c7e3d0-c299-4dcb-8224-4455121ee9b0",
    "_uuid": "d629ff2d2480ee46fbb7e2d37f6b5fab8052498a"
   },
   "outputs": [
    {
     "data": {
      "text/html": [
       "<div>\n",
       "<style scoped>\n",
       "    .dataframe tbody tr th:only-of-type {\n",
       "        vertical-align: middle;\n",
       "    }\n",
       "\n",
       "    .dataframe tbody tr th {\n",
       "        vertical-align: top;\n",
       "    }\n",
       "\n",
       "    .dataframe thead th {\n",
       "        text-align: right;\n",
       "    }\n",
       "</style>\n",
       "<table border=\"1\" class=\"dataframe\">\n",
       "  <thead>\n",
       "    <tr style=\"text-align: right;\">\n",
       "      <th></th>\n",
       "      <th>text</th>\n",
       "      <th>category</th>\n",
       "    </tr>\n",
       "  </thead>\n",
       "  <tbody>\n",
       "    <tr>\n",
       "      <th>107620</th>\n",
       "      <td>feel meaningful feel immortal</td>\n",
       "      <td>WORLDPOST</td>\n",
       "    </tr>\n",
       "    <tr>\n",
       "      <th>195600</th>\n",
       "      <td>watch &lt;NUM&gt; YouTube Videos week look popular Y...</td>\n",
       "      <td>TECH</td>\n",
       "    </tr>\n",
       "    <tr>\n",
       "      <th>188153</th>\n",
       "      <td>Kobe Bryant Divorce : report reconciliation Af...</td>\n",
       "      <td>DIVORCE</td>\n",
       "    </tr>\n",
       "    <tr>\n",
       "      <th>130822</th>\n",
       "      <td>walk Tightrope Life struggle proper use time a...</td>\n",
       "      <td>WELLNESS</td>\n",
       "    </tr>\n",
       "    <tr>\n",
       "      <th>109816</th>\n",
       "      <td>&lt;NUM&gt; piece advice save parent ' Sanity Parent...</td>\n",
       "      <td>PARENTS</td>\n",
       "    </tr>\n",
       "  </tbody>\n",
       "</table>\n",
       "</div>"
      ],
      "text/plain": [
       "                                                     text   category\n",
       "107620                      feel meaningful feel immortal  WORLDPOST\n",
       "195600  watch <NUM> YouTube Videos week look popular Y...       TECH\n",
       "188153  Kobe Bryant Divorce : report reconciliation Af...    DIVORCE\n",
       "130822  walk Tightrope Life struggle proper use time a...   WELLNESS\n",
       "109816  <NUM> piece advice save parent ' Sanity Parent...    PARENTS"
      ]
     },
     "execution_count": 2,
     "metadata": {},
     "output_type": "execute_result"
    }
   ],
   "source": [
    "news = pd.read_pickle('../input/stopwords-removal-and-lemmatization/data.pkl')\n",
    "news = shuffle(news, random_state=29)\n",
    "news.head()"
   ]
  },
  {
   "cell_type": "code",
   "execution_count": 3,
   "metadata": {},
   "outputs": [],
   "source": [
    "news['category'] = news['category'].apply(lambda x: \"WORLDPOST\" if x == \"THE WORLDPOST\" else x)\n",
    "labels = list(set(news['category']))\n",
    "news['category'] = news['category'].apply(labels.index)\n",
    "X_train, X_test, y_train, y_test = train_test_split(news['text'], news['category'], test_size=0.3, random_state=4)\n",
    "X_holdout, X_test, y_holdout, y_test = train_test_split(X_test, y_test, test_size=0.66, random_state=98)\n",
    "y_train, y_test, y_holdout = list(y_train), list(y_test), list(y_holdout)"
   ]
  },
  {
   "cell_type": "code",
   "execution_count": 4,
   "metadata": {},
   "outputs": [],
   "source": [
    "tokenizer = Tokenizer(lower=True)\n",
    "tokenizer.fit_on_texts(news['text'])\n",
    "X_train = tokenizer.texts_to_sequences(X_train)\n",
    "X_holdout = tokenizer.texts_to_sequences(X_holdout)\n",
    "X_test = tokenizer.texts_to_sequences(X_test)"
   ]
  },
  {
   "cell_type": "code",
   "execution_count": 5,
   "metadata": {},
   "outputs": [
    {
     "name": "stderr",
     "output_type": "stream",
     "text": [
      "/opt/conda/lib/python3.6/site-packages/ipykernel_launcher.py:13: FutureWarning: arrays to stack must be passed as a \"sequence\" type such as list or tuple. Support for non-sequence iterables such as generators is deprecated as of NumPy 1.16 and will raise an error in the future.\n",
      "  del sys.path[0]\n"
     ]
    }
   ],
   "source": [
    "def get_embed_mat(EMBEDDING_FILE):\n",
    "    embeddings_index = {}\n",
    "    with open(EMBEDDING_FILE, 'r') as f:\n",
    "        for line in f:\n",
    "            values = line.split()\n",
    "            word = values[0]\n",
    "            coefs = np.asarray(values[1:], dtype='float32')\n",
    "            embeddings_index[word] = coefs\n",
    "        f.close()\n",
    "    \n",
    "    word_index = tokenizer.word_index\n",
    "    num_words = len(word_index) + 1\n",
    "    all_embs = np.stack(embeddings_index.values())\n",
    "    embedding_matrix = np.random.normal(all_embs.mean(), all_embs.std(), \n",
    "                                        (num_words, embed_dim))\n",
    "    for word, i in word_index.items():\n",
    "        if i >= num_words:\n",
    "            break\n",
    "        embedding_vector = embeddings_index.get(word)\n",
    "        if embedding_vector is not None:\n",
    "            embedding_matrix[i] = embedding_vector\n",
    "    return num_words, embedding_matrix\n",
    "\n",
    "EMBEDDING_FILE = '../input/glove-global-vectors-for-word-representation/glove.6B.200d.txt'\n",
    "embed_dim = 200\n",
    "num_words, embedding_matrix = get_embed_mat(EMBEDDING_FILE)"
   ]
  },
  {
   "cell_type": "code",
   "execution_count": 6,
   "metadata": {},
   "outputs": [
    {
     "data": {
      "image/png": "[encoded data removed]",
      "text/plain": [
       "<Figure size 432x288 with 1 Axes>"
      ]
     },
     "metadata": {},
     "output_type": "display_data"
    }
   ],
   "source": [
    "plot = plt.hist([len(x) for x in X_train + X_test], bins=100)"
   ]
  },
  {
   "cell_type": "code",
   "execution_count": 7,
   "metadata": {},
   "outputs": [
    {
     "name": "stdout",
     "output_type": "stream",
     "text": [
      "Sequence length: 50\n"
     ]
    }
   ],
   "source": [
    "max_length = 50\n",
    "print('Sequence length:', max_length)"
   ]
  },
  {
   "cell_type": "markdown",
   "metadata": {},
   "source": [
    "**CNN - Static**"
   ]
  },
  {
   "cell_type": "code",
   "execution_count": 8,
   "metadata": {},
   "outputs": [
    {
     "name": "stdout",
     "output_type": "stream",
     "text": [
      "WARNING:tensorflow:From /opt/conda/lib/python3.6/site-packages/tensorflow/python/framework/op_def_library.py:263: colocate_with (from tensorflow.python.framework.ops) is deprecated and will be removed in a future version.\n",
      "Instructions for updating:\n",
      "Colocations handled automatically by placer.\n",
      "WARNING:tensorflow:From /opt/conda/lib/python3.6/site-packages/keras/backend/tensorflow_backend.py:3445: calling dropout (from tensorflow.python.ops.nn_ops) with keep_prob is deprecated and will be removed in a future version.\n",
      "Instructions for updating:\n",
      "Please use `rate` instead of `keep_prob`. Rate should be set to `rate = 1 - keep_prob`.\n",
      "__________________________________________________________________________________________________\n",
      "Layer (type)                    Output Shape         Param #     Connected to                     \n",
      "==================================================================================================\n",
      "input_1 (InputLayer)            (None, 50)           0                                            \n",
      "__________________________________________________________________________________________________\n",
      "embedding_1 (Embedding)         (None, 50, 200)      16268200    input_1[0][0]                    \n",
      "__________________________________________________________________________________________________\n",
      "conv1d_1 (Conv1D)               (None, 49, 256)      102656      embedding_1[0][0]                \n",
      "__________________________________________________________________________________________________\n",
      "conv1d_2 (Conv1D)               (None, 48, 256)      153856      embedding_1[0][0]                \n",
      "__________________________________________________________________________________________________\n",
      "conv1d_3 (Conv1D)               (None, 46, 256)      256256      embedding_1[0][0]                \n",
      "__________________________________________________________________________________________________\n",
      "batch_normalization_1 (BatchNor (None, 49, 256)      1024        conv1d_1[0][0]                   \n",
      "__________________________________________________________________________________________________\n",
      "batch_normalization_2 (BatchNor (None, 48, 256)      1024        conv1d_2[0][0]                   \n",
      "__________________________________________________________________________________________________\n",
      "batch_normalization_3 (BatchNor (None, 46, 256)      1024        conv1d_3[0][0]                   \n",
      "__________________________________________________________________________________________________\n",
      "activation_1 (Activation)       (None, 49, 256)      0           batch_normalization_1[0][0]      \n",
      "__________________________________________________________________________________________________\n",
      "activation_2 (Activation)       (None, 48, 256)      0           batch_normalization_2[0][0]      \n",
      "__________________________________________________________________________________________________\n",
      "activation_3 (Activation)       (None, 46, 256)      0           batch_normalization_3[0][0]      \n",
      "__________________________________________________________________________________________________\n",
      "global_max_pooling1d_1 (GlobalM (None, 256)          0           activation_1[0][0]               \n",
      "__________________________________________________________________________________________________\n",
      "global_max_pooling1d_2 (GlobalM (None, 256)          0           activation_2[0][0]               \n",
      "__________________________________________________________________________________________________\n",
      "global_max_pooling1d_3 (GlobalM (None, 256)          0           activation_3[0][0]               \n",
      "__________________________________________________________________________________________________\n",
      "concatenate_1 (Concatenate)     (None, 768)          0           global_max_pooling1d_1[0][0]     \n",
      "                                                                 global_max_pooling1d_2[0][0]     \n",
      "                                                                 global_max_pooling1d_3[0][0]     \n",
      "__________________________________________________________________________________________________\n",
      "dropout_1 (Dropout)             (None, 768)          0           concatenate_1[0][0]              \n",
      "__________________________________________________________________________________________________\n",
      "dense_1 (Dense)                 (None, 512)          393728      dropout_1[0][0]                  \n",
      "__________________________________________________________________________________________________\n",
      "dense_2 (Dense)                 (None, 40)           20520       dense_1[0][0]                    \n",
      "==================================================================================================\n",
      "Total params: 17,198,288\n",
      "Trainable params: 928,552\n",
      "Non-trainable params: 16,269,736\n",
      "__________________________________________________________________________________________________\n"
     ]
    }
   ],
   "source": [
    "num_classes = len(labels)\n",
    "layers = []\n",
    "filters = [2, 3, 5]\n",
    "\n",
    "sequence_input1 = Input(shape=(max_length, ), dtype='int32')\n",
    "embedding_layer_static1 = Embedding(num_words, embed_dim, embeddings_initializer=Constant(embedding_matrix),\n",
    "                            input_length=max_length, trainable=False)(sequence_input1)\n",
    "\n",
    "for sz in filters:\n",
    "    conv_layer1 = Conv1D(filters=256, kernel_size=sz)(embedding_layer_static1)\n",
    "    batchnorm_layer1 = BatchNormalization()(conv_layer1)\n",
    "    act_layer1 = Activation('relu')(batchnorm_layer1)\n",
    "    pool_layer1 = GlobalMaxPool1D()(act_layer1)\n",
    "    layers.append(pool_layer1)\n",
    "\n",
    "merged1 = Concatenate(axis=1)(layers)\n",
    "\n",
    "drop1 = Dropout(0.5)(merged1)\n",
    "dense1 = Dense(512, activation='relu')(drop1)\n",
    "out1 = Dense(num_classes, activation='softmax')(dense1)\n",
    "\n",
    "cnn_static = Model(sequence_input1, out1)\n",
    "cnn_static.summary()"
   ]
  },
  {
   "cell_type": "code",
   "execution_count": 9,
   "metadata": {},
   "outputs": [
    {
     "name": "stdout",
     "output_type": "stream",
     "text": [
      "WARNING:tensorflow:From /opt/conda/lib/python3.6/site-packages/tensorflow/python/ops/math_ops.py:3066: to_int32 (from tensorflow.python.ops.math_ops) is deprecated and will be removed in a future version.\n",
      "Instructions for updating:\n",
      "Use tf.cast instead.\n",
      "WARNING:tensorflow:From /opt/conda/lib/python3.6/site-packages/tensorflow/python/ops/math_grad.py:102: div (from tensorflow.python.ops.math_ops) is deprecated and will be removed in a future version.\n",
      "Instructions for updating:\n",
      "Deprecated in favor of operator or tf.math.divide.\n",
      "Epoch 1/15\n",
      " - 18s - loss: 2.2032 - acc: 0.4386 - top_3_acc: 0.6494 - val_loss: 1.5834 - val_acc: 0.5590 - val_top_3_acc: 0.7878\n",
      "Epoch 2/15\n",
      " - 12s - loss: 1.6829 - acc: 0.5351 - top_3_acc: 0.7618 - val_loss: 1.4951 - val_acc: 0.5789 - val_top_3_acc: 0.8046\n",
      "Epoch 3/15\n",
      " - 12s - loss: 1.5609 - acc: 0.5617 - top_3_acc: 0.7882 - val_loss: 1.4379 - val_acc: 0.5928 - val_top_3_acc: 0.8190\n",
      "Epoch 4/15\n",
      " - 12s - loss: 1.4778 - acc: 0.5822 - top_3_acc: 0.8063 - val_loss: 1.4117 - val_acc: 0.5981 - val_top_3_acc: 0.8231\n",
      "Epoch 5/15\n",
      " - 12s - loss: 1.4131 - acc: 0.5949 - top_3_acc: 0.8204 - val_loss: 1.3751 - val_acc: 0.6079 - val_top_3_acc: 0.8329\n",
      "Epoch 6/15\n",
      " - 13s - loss: 1.3647 - acc: 0.6058 - top_3_acc: 0.8287 - val_loss: 1.3463 - val_acc: 0.6122 - val_top_3_acc: 0.8371\n",
      "Epoch 7/15\n",
      " - 13s - loss: 1.3202 - acc: 0.6164 - top_3_acc: 0.8392 - val_loss: 1.3335 - val_acc: 0.6155 - val_top_3_acc: 0.8388\n",
      "Epoch 8/15\n",
      " - 12s - loss: 1.2843 - acc: 0.6253 - top_3_acc: 0.8455 - val_loss: 1.3333 - val_acc: 0.6163 - val_top_3_acc: 0.8371\n",
      "Epoch 9/15\n",
      " - 12s - loss: 1.2433 - acc: 0.6331 - top_3_acc: 0.8528 - val_loss: 1.3227 - val_acc: 0.6161 - val_top_3_acc: 0.8405\n",
      "Epoch 10/15\n",
      " - 12s - loss: 1.2125 - acc: 0.6402 - top_3_acc: 0.8595 - val_loss: 1.3238 - val_acc: 0.6201 - val_top_3_acc: 0.8439\n",
      "Epoch 11/15\n",
      " - 12s - loss: 1.1833 - acc: 0.6473 - top_3_acc: 0.8639 - val_loss: 1.3164 - val_acc: 0.6188 - val_top_3_acc: 0.8411\n",
      "Epoch 12/15\n",
      " - 12s - loss: 1.1556 - acc: 0.6536 - top_3_acc: 0.8702 - val_loss: 1.3066 - val_acc: 0.6225 - val_top_3_acc: 0.8431\n",
      "Epoch 13/15\n",
      " - 13s - loss: 1.1270 - acc: 0.6598 - top_3_acc: 0.8748 - val_loss: 1.3208 - val_acc: 0.6174 - val_top_3_acc: 0.8385\n",
      "Epoch 14/15\n",
      " - 13s - loss: 1.0970 - acc: 0.6671 - top_3_acc: 0.8791 - val_loss: 1.3114 - val_acc: 0.6196 - val_top_3_acc: 0.8413\n",
      "Epoch 15/15\n",
      " - 13s - loss: 1.0783 - acc: 0.6712 - top_3_acc: 0.8828 - val_loss: 1.3245 - val_acc: 0.6145 - val_top_3_acc: 0.8426\n"
     ]
    }
   ],
   "source": [
    "def top_3_acc(y_true, y_pred):\n",
    "    return top_k_categorical_accuracy(y_true, y_pred, k=3)\n",
    "\n",
    "class dataseq(Sequence):\n",
    "    def __init__(self, X, y, batch_size, padding='post'):\n",
    "        self.x, self.y = X, y\n",
    "        self.batch_size = batch_size\n",
    "        self.m = len(self.y)\n",
    "        self.padding = padding\n",
    "\n",
    "    def __len__(self):\n",
    "        return int(np.ceil(len(self.x) / float(self.batch_size)))\n",
    "\n",
    "    def __getitem__(self, idx):\n",
    "        batch_x = self.x[idx * self.batch_size:min((idx + 1) * self.batch_size, self.m)]\n",
    "        batch_y = self.y[idx * self.batch_size:min((idx + 1) * self.batch_size, self.m)]\n",
    "\n",
    "        return pad_sequences(batch_x, maxlen=max_length, truncating='post', padding=self.padding), to_categorical(\n",
    "            batch_y, num_classes=num_classes)\n",
    "\n",
    "cnn_static.compile(loss='categorical_crossentropy', optimizer='adam', metrics=['acc', top_3_acc])\n",
    "\n",
    "batch_size = 128\n",
    "cnn_static_history = cnn_static.fit_generator(dataseq(X_train, y_train, batch_size), epochs=15, verbose=2,\n",
    "                              validation_data = dataseq(X_holdout, y_holdout, batch_size), shuffle=True)"
   ]
  },
  {
   "cell_type": "code",
   "execution_count": 10,
   "metadata": {},
   "outputs": [
    {
     "data": {
      "image/png": "[encoded data removed]",
      "text/plain": [
       "<Figure size 432x288 with 1 Axes>"
      ]
     },
     "metadata": {},
     "output_type": "display_data"
    }
   ],
   "source": [
    "plt.plot(cnn_static_history.history['loss'], label='train')\n",
    "plt.plot(cnn_static_history.history['val_loss'], label='holdout')\n",
    "plt.title('CNN - Static learning curve')\n",
    "plt.ylabel('loss')\n",
    "plt.xlabel('epoch')\n",
    "plt.legend(loc='upper right')\n",
    "plt.show()"
   ]
  },
  {
   "cell_type": "code",
   "execution_count": 11,
   "metadata": {},
   "outputs": [
    {
     "data": {
      "text/plain": [
       "[1.290729053490672, 0.6220171490941332, 0.8456586789304279]"
      ]
     },
     "execution_count": 11,
     "metadata": {},
     "output_type": "execute_result"
    }
   ],
   "source": [
    "cnn_static.evaluate_generator(dataseq(X_test, y_test, batch_size))"
   ]
  },
  {
   "cell_type": "markdown",
   "metadata": {},
   "source": [
    "**CNN - Dynamic**"
   ]
  },
  {
   "cell_type": "code",
   "execution_count": 12,
   "metadata": {},
   "outputs": [],
   "source": [
    "layers = []\n",
    "\n",
    "embedding_layer_dynamic1 = Embedding(num_words, embed_dim, embeddings_initializer=Constant(embedding_matrix),\n",
    "                            input_length=max_length)(sequence_input1)\n",
    "\n",
    "for sz in filters:\n",
    "    conv_layer2 = Conv1D(filters=256, kernel_size=sz)(embedding_layer_dynamic1)\n",
    "    batchnorm_layer2 = BatchNormalization()(conv_layer2)\n",
    "    act_layer2 = Activation('relu')(batchnorm_layer2)\n",
    "    pool_layer2 = GlobalMaxPool1D()(act_layer2)\n",
    "    layers.append(pool_layer2)\n",
    "\n",
    "merged2 = Concatenate(axis=1)(layers)\n",
    "\n",
    "drop2 = Dropout(0.5)(merged2)\n",
    "dense2 = Dense(512, activation='relu')(drop2)\n",
    "out2 = Dense(num_classes, activation='softmax')(dense2)\n",
    "\n",
    "cnn_dynamic = Model(sequence_input1, out2)"
   ]
  },
  {
   "cell_type": "code",
   "execution_count": 13,
   "metadata": {},
   "outputs": [
    {
     "name": "stdout",
     "output_type": "stream",
     "text": [
      "Epoch 1/5\n",
      " - 22s - loss: 2.1081 - acc: 0.4573 - top_3_acc: 0.6657 - val_loss: 1.5004 - val_acc: 0.5835 - val_top_3_acc: 0.8022\n",
      "Epoch 2/5\n",
      " - 19s - loss: 1.4704 - acc: 0.5868 - top_3_acc: 0.8071 - val_loss: 1.3608 - val_acc: 0.6124 - val_top_3_acc: 0.8325\n",
      "Epoch 3/5\n",
      " - 20s - loss: 1.2477 - acc: 0.6385 - top_3_acc: 0.8521 - val_loss: 1.3015 - val_acc: 0.6273 - val_top_3_acc: 0.8424\n",
      "Epoch 4/5\n",
      " - 19s - loss: 1.0696 - acc: 0.6821 - top_3_acc: 0.8846 - val_loss: 1.3028 - val_acc: 0.6302 - val_top_3_acc: 0.8425\n",
      "Epoch 5/5\n",
      " - 19s - loss: 0.9139 - acc: 0.7232 - top_3_acc: 0.9098 - val_loss: 1.3309 - val_acc: 0.6291 - val_top_3_acc: 0.8420\n"
     ]
    }
   ],
   "source": [
    "cnn_dynamic.compile(loss='categorical_crossentropy', optimizer='adam', metrics=['acc', top_3_acc])\n",
    "cnn_dynamic_history = cnn_dynamic.fit_generator(dataseq(X_train, y_train, batch_size), epochs=5, verbose=2,\n",
    "                              validation_data = dataseq(X_holdout, y_holdout, batch_size), shuffle=True)"
   ]
  },
  {
   "cell_type": "code",
   "execution_count": 14,
   "metadata": {},
   "outputs": [
    {
     "data": {
      "image/png": "[encoded data removed]",
      "text/plain": [
       "<Figure size 432x288 with 1 Axes>"
      ]
     },
     "metadata": {},
     "output_type": "display_data"
    }
   ],
   "source": [
    "plt.plot(cnn_dynamic_history.history['loss'], label='train')\n",
    "plt.plot(cnn_dynamic_history.history['val_loss'], label='holdout')\n",
    "plt.title('CNN - Dynamic learning curve')\n",
    "plt.ylabel('loss')\n",
    "plt.xlabel('epoch')\n",
    "plt.legend(loc='upper right')\n",
    "plt.show()"
   ]
  },
  {
   "cell_type": "code",
   "execution_count": 15,
   "metadata": {},
   "outputs": [
    {
     "data": {
      "text/plain": [
       "[1.307106766630842, 0.6331564786927629, 0.8463124544902463]"
      ]
     },
     "execution_count": 15,
     "metadata": {},
     "output_type": "execute_result"
    }
   ],
   "source": [
    "cnn_dynamic.evaluate_generator(dataseq(X_test, y_test, batch_size))"
   ]
  },
  {
   "cell_type": "markdown",
   "metadata": {},
   "source": [
    "**LSTM - Static**"
   ]
  },
  {
   "cell_type": "code",
   "execution_count": 16,
   "metadata": {},
   "outputs": [
    {
     "name": "stdout",
     "output_type": "stream",
     "text": [
      "_________________________________________________________________\n",
      "Layer (type)                 Output Shape              Param #   \n",
      "=================================================================\n",
      "input_2 (InputLayer)         (None, 50)                0         \n",
      "_________________________________________________________________\n",
      "embedding_3 (Embedding)      (None, 50, 200)           16268200  \n",
      "_________________________________________________________________\n",
      "cu_dnnlstm_1 (CuDNNLSTM)     (None, 50, 500)           1404000   \n",
      "_________________________________________________________________\n",
      "dropout_3 (Dropout)          (None, 50, 500)           0         \n",
      "_________________________________________________________________\n",
      "cu_dnnlstm_2 (CuDNNLSTM)     (None, 200)               561600    \n",
      "_________________________________________________________________\n",
      "dropout_4 (Dropout)          (None, 200)               0         \n",
      "_________________________________________________________________\n",
      "dense_5 (Dense)              (None, 40)                8040      \n",
      "=================================================================\n",
      "Total params: 18,241,840\n",
      "Trainable params: 1,973,640\n",
      "Non-trainable params: 16,268,200\n",
      "_________________________________________________________________\n"
     ]
    }
   ],
   "source": [
    "sequence_input2 = Input(shape=(max_length, ), dtype='int32')\n",
    "embedding_layer_static2 = Embedding(num_words, embed_dim, embeddings_initializer=Constant(embedding_matrix),\n",
    "                            input_length=max_length, trainable=False)(sequence_input2)\n",
    "lstm1 = CuDNNLSTM(500, return_sequences=True)(embedding_layer_static2)\n",
    "drop3 = Dropout(0.5)(lstm1)\n",
    "lstm2 = CuDNNLSTM(200)(drop3)\n",
    "drop4 = Dropout(0.5)(lstm2)\n",
    "out3 = Dense(num_classes, activation='softmax')(drop4)\n",
    "lstm_static = Model(sequence_input2, out3)\n",
    "lstm_static.summary()"
   ]
  },
  {
   "cell_type": "code",
   "execution_count": 17,
   "metadata": {},
   "outputs": [
    {
     "name": "stdout",
     "output_type": "stream",
     "text": [
      "Epoch 1/5\n",
      " - 28s - loss: 1.7480 - acc: 0.5339 - top_3_acc: 0.7477 - val_loss: 1.4539 - val_acc: 0.5964 - val_top_3_acc: 0.8127\n",
      "Epoch 2/5\n",
      " - 26s - loss: 1.4052 - acc: 0.6093 - top_3_acc: 0.8229 - val_loss: 1.3266 - val_acc: 0.6205 - val_top_3_acc: 0.8366\n",
      "Epoch 3/5\n",
      " - 26s - loss: 1.2727 - acc: 0.6398 - top_3_acc: 0.8494 - val_loss: 1.2700 - val_acc: 0.6343 - val_top_3_acc: 0.8498\n",
      "Epoch 4/5\n",
      " - 27s - loss: 1.1665 - acc: 0.6658 - top_3_acc: 0.8686 - val_loss: 1.2562 - val_acc: 0.6407 - val_top_3_acc: 0.8522\n",
      "Epoch 5/5\n",
      " - 26s - loss: 1.0699 - acc: 0.6891 - top_3_acc: 0.8853 - val_loss: 1.2732 - val_acc: 0.6403 - val_top_3_acc: 0.8507\n"
     ]
    }
   ],
   "source": [
    "lstm_static.compile(loss='categorical_crossentropy', optimizer='adam', metrics=['acc', top_3_acc])\n",
    "lstm_static_history = lstm_static.fit_generator(dataseq(X_train, y_train, batch_size, 'pre'), epochs=5, verbose=2,\n",
    "                              validation_data = dataseq(X_holdout, y_holdout, batch_size, 'pre'))"
   ]
  },
  {
   "cell_type": "code",
   "execution_count": 18,
   "metadata": {},
   "outputs": [
    {
     "data": {
      "image/png": "[encoded data removed]",
      "text/plain": [
       "<Figure size 432x288 with 1 Axes>"
      ]
     },
     "metadata": {},
     "output_type": "display_data"
    }
   ],
   "source": [
    "plt.plot(lstm_static_history.history['loss'], label='train')\n",
    "plt.plot(lstm_static_history.history['val_loss'], label='test')\n",
    "plt.title('LSTM - Static learning curve')\n",
    "plt.ylabel('loss')\n",
    "plt.xlabel('epoch')\n",
    "plt.legend(loc='upper right')\n",
    "plt.show()"
   ]
  },
  {
   "cell_type": "code",
   "execution_count": 19,
   "metadata": {},
   "outputs": [
    {
     "data": {
      "text/plain": [
       "[1.2253644141691296, 0.6522919862848702, 0.8594885463851767]"
      ]
     },
     "execution_count": 19,
     "metadata": {},
     "output_type": "execute_result"
    }
   ],
   "source": [
    "lstm_static.evaluate_generator(dataseq(X_test, y_test, batch_size, 'pre'))"
   ]
  },
  {
   "cell_type": "markdown",
   "metadata": {},
   "source": [
    "**LSTM - Dynamic**"
   ]
  },
  {
   "cell_type": "code",
   "execution_count": 20,
   "metadata": {},
   "outputs": [],
   "source": [
    "embedding_layer_dynamic2 = Embedding(num_words, embed_dim, embeddings_initializer=Constant(embedding_matrix),\n",
    "                           input_length=max_length)(sequence_input2)\n",
    "lstm3 = CuDNNLSTM(500, return_sequences=True)(embedding_layer_dynamic2)\n",
    "drop5 = Dropout(0.5)(lstm3)\n",
    "lstm4 = CuDNNLSTM(200)(drop5)\n",
    "drop6 = Dropout(0.5)(lstm4)\n",
    "out4 = Dense(num_classes, activation='softmax')(drop6)\n",
    "lstm_dynamic = Model(sequence_input2, out4)"
   ]
  },
  {
   "cell_type": "code",
   "execution_count": 21,
   "metadata": {},
   "outputs": [
    {
     "name": "stdout",
     "output_type": "stream",
     "text": [
      "Epoch 1/4\n",
      " - 34s - loss: 1.6757 - acc: 0.5540 - top_3_acc: 0.7609 - val_loss: 1.3568 - val_acc: 0.6205 - val_top_3_acc: 0.8354\n",
      "Epoch 2/4\n",
      " - 32s - loss: 1.2185 - acc: 0.6586 - top_3_acc: 0.8593 - val_loss: 1.2648 - val_acc: 0.6406 - val_top_3_acc: 0.8506\n",
      "Epoch 3/4\n",
      " - 32s - loss: 0.9872 - acc: 0.7165 - top_3_acc: 0.8988 - val_loss: 1.2591 - val_acc: 0.6478 - val_top_3_acc: 0.8550\n",
      "Epoch 4/4\n",
      " - 32s - loss: 0.7897 - acc: 0.7692 - top_3_acc: 0.9270 - val_loss: 1.3421 - val_acc: 0.6392 - val_top_3_acc: 0.8483\n"
     ]
    }
   ],
   "source": [
    "lstm_dynamic.compile(loss='categorical_crossentropy', optimizer='adam', metrics=['acc', top_3_acc])\n",
    "lstm_dynamic_history = lstm_dynamic.fit_generator(dataseq(X_train, y_train, batch_size, 'pre'), epochs=4, verbose=2,\n",
    "                              validation_data = dataseq(X_holdout, y_holdout, batch_size, 'pre'))"
   ]
  },
  {
   "cell_type": "code",
   "execution_count": 22,
   "metadata": {},
   "outputs": [
    {
     "data": {
      "image/png": "[encoded data removed]",
      "text/plain": [
       "<Figure size 432x288 with 1 Axes>"
      ]
     },
     "metadata": {},
     "output_type": "display_data"
    }
   ],
   "source": [
    "plt.plot(lstm_dynamic_history.history['loss'], label='train')\n",
    "plt.plot(lstm_dynamic_history.history['val_loss'], label='test')\n",
    "plt.title('LSTM - Dynamic learning curve')\n",
    "plt.ylabel('loss')\n",
    "plt.xlabel('epoch')\n",
    "plt.legend(loc='upper right')\n",
    "plt.show()"
   ]
  },
  {
   "cell_type": "code",
   "execution_count": 23,
   "metadata": {},
   "outputs": [
    {
     "data": {
      "text/plain": [
       "[1.3062808119014815, 0.6457290855030527, 0.8531268073661838]"
      ]
     },
     "execution_count": 23,
     "metadata": {},
     "output_type": "execute_result"
    }
   ],
   "source": [
    "lstm_dynamic.evaluate_generator(dataseq(X_test, y_test, batch_size, 'pre'))"
   ]
  },
  {
   "cell_type": "markdown",
   "metadata": {},
   "source": [
    "**Ensemble**"
   ]
  },
  {
   "cell_type": "code",
   "execution_count": 24,
   "metadata": {},
   "outputs": [],
   "source": [
    "models = [cnn_static, cnn_dynamic, lstm_static, lstm_dynamic]\n",
    "\n",
    "for i in range(len(models)):\n",
    "    for layer in models[i].layers:\n",
    "        layer.trainable = False\n",
    "\n",
    "input_layers = [sequence_input1, sequence_input2]\n",
    "output_layers = [model.output for model in models]\n",
    "ensemble_merge = Concatenate()(output_layers)\n",
    "ensemble_dense = Dense(100, activation='relu')(ensemble_merge)\n",
    "output = Dense(num_classes, activation='softmax')(ensemble_dense)\n",
    "model = Model(inputs=input_layers, outputs=output)"
   ]
  },
  {
   "cell_type": "code",
   "execution_count": 25,
   "metadata": {},
   "outputs": [
    {
     "name": "stdout",
     "output_type": "stream",
     "text": [
      "Epoch 1/20\n",
      " - 12s - loss: 2.3875 - acc: 0.5272 - top_3_acc: 0.6781 - val_loss: 1.5268 - val_acc: 0.6448 - val_top_3_acc: 0.8162\n",
      "Epoch 2/20\n",
      " - 10s - loss: 1.4377 - acc: 0.6485 - top_3_acc: 0.8288 - val_loss: 1.3233 - val_acc: 0.6690 - val_top_3_acc: 0.8437\n",
      "Epoch 3/20\n",
      " - 10s - loss: 1.3367 - acc: 0.6595 - top_3_acc: 0.8419 - val_loss: 1.2891 - val_acc: 0.6706 - val_top_3_acc: 0.8484\n",
      "Epoch 4/20\n",
      " - 10s - loss: 1.3023 - acc: 0.6639 - top_3_acc: 0.8450 - val_loss: 1.2738 - val_acc: 0.6710 - val_top_3_acc: 0.8473\n",
      "Epoch 5/20\n",
      " - 10s - loss: 1.2909 - acc: 0.6644 - top_3_acc: 0.8446 - val_loss: 1.2677 - val_acc: 0.6728 - val_top_3_acc: 0.8500\n",
      "Epoch 6/20\n",
      " - 10s - loss: 1.2768 - acc: 0.6642 - top_3_acc: 0.8476 - val_loss: 1.2610 - val_acc: 0.6723 - val_top_3_acc: 0.8502\n",
      "Epoch 7/20\n",
      " - 10s - loss: 1.2716 - acc: 0.6637 - top_3_acc: 0.8483 - val_loss: 1.2582 - val_acc: 0.6730 - val_top_3_acc: 0.8513\n",
      "Epoch 8/20\n",
      " - 10s - loss: 1.2671 - acc: 0.6653 - top_3_acc: 0.8510 - val_loss: 1.2559 - val_acc: 0.6723 - val_top_3_acc: 0.8509\n",
      "Epoch 9/20\n",
      " - 10s - loss: 1.2560 - acc: 0.6638 - top_3_acc: 0.8535 - val_loss: 1.2524 - val_acc: 0.6722 - val_top_3_acc: 0.8507\n",
      "Epoch 10/20\n",
      " - 10s - loss: 1.2509 - acc: 0.6666 - top_3_acc: 0.8542 - val_loss: 1.2501 - val_acc: 0.6724 - val_top_3_acc: 0.8523\n",
      "Epoch 11/20\n",
      " - 10s - loss: 1.2436 - acc: 0.6663 - top_3_acc: 0.8542 - val_loss: 1.2460 - val_acc: 0.6731 - val_top_3_acc: 0.8536\n",
      "Epoch 12/20\n",
      " - 10s - loss: 1.2380 - acc: 0.6660 - top_3_acc: 0.8561 - val_loss: 1.2440 - val_acc: 0.6730 - val_top_3_acc: 0.8533\n",
      "Epoch 13/20\n",
      " - 10s - loss: 1.2401 - acc: 0.6643 - top_3_acc: 0.8547 - val_loss: 1.2412 - val_acc: 0.6734 - val_top_3_acc: 0.8550\n",
      "Epoch 14/20\n",
      " - 10s - loss: 1.2314 - acc: 0.6642 - top_3_acc: 0.8567 - val_loss: 1.2394 - val_acc: 0.6727 - val_top_3_acc: 0.8549\n",
      "Epoch 15/20\n",
      " - 10s - loss: 1.2250 - acc: 0.6666 - top_3_acc: 0.8599 - val_loss: 1.2386 - val_acc: 0.6734 - val_top_3_acc: 0.8544\n",
      "Epoch 16/20\n",
      " - 10s - loss: 1.2236 - acc: 0.6650 - top_3_acc: 0.8584 - val_loss: 1.2370 - val_acc: 0.6726 - val_top_3_acc: 0.8554\n",
      "Epoch 17/20\n",
      " - 10s - loss: 1.2178 - acc: 0.6689 - top_3_acc: 0.8600 - val_loss: 1.2343 - val_acc: 0.6727 - val_top_3_acc: 0.8564\n",
      "Epoch 18/20\n",
      " - 10s - loss: 1.2127 - acc: 0.6674 - top_3_acc: 0.8600 - val_loss: 1.2326 - val_acc: 0.6735 - val_top_3_acc: 0.8560\n",
      "Epoch 19/20\n",
      " - 10s - loss: 1.2087 - acc: 0.6693 - top_3_acc: 0.8617 - val_loss: 1.2322 - val_acc: 0.6724 - val_top_3_acc: 0.8564\n",
      "Epoch 20/20\n",
      " - 10s - loss: 1.2022 - acc: 0.6674 - top_3_acc: 0.8622 - val_loss: 1.2298 - val_acc: 0.6724 - val_top_3_acc: 0.8582\n"
     ]
    }
   ],
   "source": [
    "class meta_dataseq(Sequence):\n",
    "    def __init__(self, X, y, batch_size):\n",
    "        self.x, self.y = X, y\n",
    "        self.batch_size = batch_size\n",
    "        self.m = len(self.y)\n",
    "\n",
    "    def __len__(self):\n",
    "        return int(np.ceil(len(self.x) / float(self.batch_size)))\n",
    "\n",
    "    def __getitem__(self, idx):\n",
    "        batch_x = self.x[idx * self.batch_size:min((idx + 1) * self.batch_size, self.m)]\n",
    "        batch_y = to_categorical(self.y[idx * self.batch_size:min((idx + 1) * self.batch_size, self.m)],\n",
    "                                 num_classes=num_classes)\n",
    "        \n",
    "        return [pad_sequences(batch_x, maxlen=max_length, truncating='post', padding='post'),\n",
    "                 pad_sequences(batch_x, maxlen=max_length, truncating='post', padding='pre')], batch_y\n",
    "\n",
    "model.compile(loss='categorical_crossentropy', optimizer='adam', metrics=['acc', top_3_acc])\n",
    "model_history = model.fit_generator(meta_dataseq(X_holdout, y_holdout, batch_size), epochs=20, verbose=2,\n",
    "                              validation_data = meta_dataseq(X_test, y_test, batch_size))"
   ]
  },
  {
   "cell_type": "code",
   "execution_count": 26,
   "metadata": {},
   "outputs": [
    {
     "data": {
      "image/png": "[encoded data removed]",
      "text/plain": [
       "<Figure size 432x288 with 1 Axes>"
      ]
     },
     "metadata": {},
     "output_type": "display_data"
    }
   ],
   "source": [
    "plt.plot(model_history.history['loss'], label='train')\n",
    "plt.plot(model_history.history['val_loss'], label='test')\n",
    "plt.title('Meta-classifer learning curve')\n",
    "plt.ylabel('loss')\n",
    "plt.xlabel('epoch')\n",
    "plt.legend(loc='upper right')\n",
    "plt.show()"
   ]
  },
  {
   "cell_type": "code",
   "execution_count": 27,
   "metadata": {},
   "outputs": [
    {
     "name": "stdout",
     "output_type": "stream",
     "text": [
      "Saved model to disk\n"
     ]
    }
   ],
   "source": [
    "plot_model(model, to_file='model.png')\n",
    "model_json = model.to_json()\n",
    "with open('model.json', 'w') as json_file:\n",
    "    json_file.write(model_json)\n",
    "model.save_weights('model.h5')\n",
    "print('Saved model to disk')"
   ]
  }
 ],
 "metadata": {
  "kernelspec": {
   "display_name": "Python 3",
   "language": "python",
   "name": "python3"
  },
  "language_info": {
   "codemirror_mode": {
    "name": "ipython",
    "version": 3
   },
   "file_extension": ".py",
   "mimetype": "text/x-python",
   "name": "python",
   "nbconvert_exporter": "python",
   "pygments_lexer": "ipython3",
   "version": "3.6.4"
  }
 },
 "nbformat": 4,
 "nbformat_minor": 1
}
